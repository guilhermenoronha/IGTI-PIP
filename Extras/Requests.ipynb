{
 "cells": [
  {
   "cell_type": "markdown",
   "id": "2568d88c-d46a-4f24-b094-2f0835458782",
   "metadata": {},
   "source": [
    "# Scrapping de maneira simples\n",
    "O objetivo desse notebook é mostrar como fazer scrapping de maneira simples, sem fazer uso de bibliotecas sofisticadas como Selenium, BeautifulSoup, etc.\n",
    "\n",
    "A ideia é que devemos sempre procurar por APIs ocultas nos sites que pesquisamos. Essas APIs são usadas internamente pelos sites para recuperar dados que são exibidos na tela. Detectar e fazer uso dessas APIs facilita o processo de scrapping e deve ser sempre a primeira opção do engenheiro de dados. "
   ]
  },
  {
   "cell_type": "markdown",
   "id": "4d9c190a-9f2d-44af-b55d-7dbd68883dc0",
   "metadata": {},
   "source": [
    "## Primeiro Exemplo\n",
    "\n",
    "Fazer scrapping dos ativos listados em balcão da bolsa de valores.\n",
    "- A página inicial de consulta é https://www.b3.com.br/pt_br/market-data-e-indices/servicos-de-dados/market-data/consultas/boletim-diario/dados-publicos-de-produtos-listados-e-de-balcao/"
   ]
  },
  {
   "cell_type": "markdown",
   "id": "d05895e3-58d4-4b78-8861-f2c60199f9c1",
   "metadata": {},
   "source": [
    "### Primeiro passo\n",
    "- Abrir o console de desenvolvedor no seu navegador (No Firefox pode ser acessado pela tecla F12 ou apertando Ctrl + Shift + I)\n",
    "- Clique em Rede e aperte F5 para recarregar a página. Observe uma série de requisições GET e POST no console.\n",
    "- Procure por uma requisição GET do tipo json\n",
    "- Verifique o conteúdo de resposta dessa requisição. Para isso, clique na requisição e depois clique em resposta.\n",
    "- Verifique se a resposta é aquilo que procura. Em caso positivo, parabéns, você identificou a chamada da API. Ela será nosso ponto de partida.\n",
    "- Clique com o botão direito na requisição e clique em Copiar -> Copiar URL"
   ]
  },
  {
   "cell_type": "code",
   "execution_count": 10,
   "id": "1782f183-73d2-4468-9c7a-8aeaf1535dbe",
   "metadata": {},
   "outputs": [
    {
     "data": {
      "text/plain": [
       "{'fileName': 'InstrumentsConsolidatedFile_20220908_1.csv',\n",
       " 'extension': '.csv',\n",
       " 'friendlyName': 'Cadastro de Instrumentos (Listado)',\n",
       " 'fileId': '8c5166d5-44e0-4850-acae-a9bffa68411a',\n",
       " 'subChannelId': 'cc188e40-03be-408e-aa86-501926b97a76',\n",
       " 'dateTime': '2022-09-08T00:00:00',\n",
       " 'fileDate': '2022-09-08T18:28:00'}"
      ]
     },
     "execution_count": 10,
     "metadata": {},
     "output_type": "execute_result"
    }
   ],
   "source": [
    "import requests\n",
    "import json\n",
    "\n",
    "url = 'https://arquivos.b3.com.br/api/channels/34dcaaeb-0306-4f45-a83e-4f66a23b42fa/subchannels/cc188e40-03be-408e-aa86-501926b97a76/publications?&lang=pt'\n",
    "\n",
    "page_request = requests.get(url=url)\n",
    "page_response = json.loads(page_request.content)\n",
    "page_response[0]"
   ]
  },
  {
   "cell_type": "markdown",
   "id": "2127c83b-7c68-4510-a2fb-6ecff54cbc14",
   "metadata": {},
   "source": [
    "### Segundo passo\n",
    "- Parabéns, agora você já tem acesso a todos os metadados dos arquivos que deseja extrair do site, mas esse foi só o primeiro passo. Agora é necessário fazer as requisições que farão os downloads dos arquivos de fato.\n",
    "- Clique na lixeira do console para apagar todas as requisições passadas.\n",
    "- Em seguida clique num arquivo qualquer para fazer download. Observe as novas requisições que o site fez.\n",
    "    - Veja que dessa vez há duas novas requisições de interesse. Uma do tipo JSON e outra do tipo octet-stream (que é o arquivo binário que foi baixado)\n",
    "    - Ao observar a primeira requisição, podemos ver na URL que ele faz a requisição usando 2 parâmetros: fileName e date. Nós já temos esse parâmetros do passo anterior.\n",
    "    - Ao observar a segunda requisição, vemos que o parâmetro passado é um token. Esse token pode ser obtido como resposta da primeira requisição que nós fizemos.\n",
    "- Vamos copiar as URLs das duas requisições que nós obtivemos. Vamos precisar delas."
   ]
  },
  {
   "cell_type": "code",
   "execution_count": 11,
   "id": "e6652649-ca15-4763-a761-d5330666005e",
   "metadata": {
    "tags": []
   },
   "outputs": [],
   "source": [
    "# Requisição para obter o token\n",
    "fileName = page_response[0].get('fileName').split('File')[0]\n",
    "date = page_response[0].get('dateTime').split('T')[0]\n",
    "url_req1 = f'https://arquivos.b3.com.br/api/download/requestname?fileName={fileName}&date={date}&recaptchaToken='\n",
    "page_request_req1 = requests.get(url_req1)\n",
    "page_response_req1 = json.loads(page_request_req1.content)\n",
    "\n",
    "# Requisição para obter o arquivo\n",
    "token = page_response_req1.get('token')\n",
    "url_req2 = f'https://arquivos.b3.com.br/api/download/?token={token}'\n",
    "page_request_req2 = requests.get(url_req2)\n",
    "page_request_req2 = page_request_req2.content"
   ]
  },
  {
   "cell_type": "markdown",
   "id": "3d7e0b4f-2883-4a4c-945a-f42352a60008",
   "metadata": {},
   "source": [
    "### Terceiro passo\n",
    "- Agora que temos o arquivo em memória, basta salvá-lo em CSV para fazer tratamento a posteriori."
   ]
  },
  {
   "cell_type": "code",
   "execution_count": 12,
   "id": "93702104-ceef-4ecc-9681-3858a3f07045",
   "metadata": {},
   "outputs": [],
   "source": [
    "import os\n",
    "os.makedirs('data/produtos_listados', exist_ok=True)\n",
    "with open(f'data/produtos_listados/{page_response[0].get(\"fileName\")}', 'wb') as f:\n",
    "    f.write(page_request_req2)"
   ]
  },
  {
   "cell_type": "markdown",
   "id": "617d410f-99af-450a-b86c-f9e06e764192",
   "metadata": {},
   "source": [
    "### Extra: automatizando o passo a passo anterior para extrair todos os arquivos de uma vez\n",
    "- Para isso vamos precisar de um loop\n",
    "- Depois é só transportar o código para uma task do airflow! :)"
   ]
  },
  {
   "cell_type": "code",
   "execution_count": 13,
   "id": "3fce537a-9d7c-4fd9-9fc2-400c0c19be63",
   "metadata": {},
   "outputs": [],
   "source": [
    "import requests\n",
    "import json\n",
    "\n",
    "url = 'https://arquivos.b3.com.br/api/channels/34dcaaeb-0306-4f45-a83e-4f66a23b42fa/subchannels/cc188e40-03be-408e-aa86-501926b97a76/publications?&lang=pt'\n",
    "\n",
    "page_request = requests.get(url=url)\n",
    "page_response = json.loads(page_request.content)\n",
    "\n",
    "for page in page_response:\n",
    "    # Requisição para obter o token\n",
    "    fileName = page.get('fileName').split('File')[0]\n",
    "    date = page.get('dateTime').split('T')[0]\n",
    "    url_req1 = f'https://arquivos.b3.com.br/api/download/requestname?fileName={fileName}&date={date}&recaptchaToken='\n",
    "    page_request_req1 = requests.get(url_req1)\n",
    "    page_response_req1 = json.loads(page_request_req1.content)\n",
    "\n",
    "    # Requisição para obter o arquivo\n",
    "    token = page_response_req1.get('token')\n",
    "    url_req2 = f'https://arquivos.b3.com.br/api/download/?token={token}'\n",
    "    page_request_req2 = requests.get(url_req2)\n",
    "    page_request_req2 = page_request_req2.content\n",
    "    \n",
    "    with open(f'data/produtos_listados/{page.get(\"fileName\")}', 'wb') as f:\n",
    "        f.write(page_request_req2)"
   ]
  },
  {
   "cell_type": "markdown",
   "id": "e4814594-a313-4f9b-8c4d-5fe0879d79f8",
   "metadata": {},
   "source": [
    "## Segundo Exemplo\n",
    "- Fazer scrapping de serviços oferecidos pelo IBGE\n",
    "- Deseja-se baixar os dados dos perfis dos municípios\n",
    "- Site inicial de consulta: https://www.ibge.gov.br/estatisticas/downloads-estatisticas.html"
   ]
  },
  {
   "cell_type": "markdown",
   "id": "0c049f0d-1658-4053-bc82-cc475d934d5b",
   "metadata": {},
   "source": [
    "### Primeiro passo\n",
    "- O primeiro passo é idêntico ao executado no primeiro exemplo.\n",
    "- A diferença é que os dados do IBGE estão dispostos numa estruturas de pastas, como observaremos a seguir."
   ]
  },
  {
   "cell_type": "code",
   "execution_count": 5,
   "id": "544c3003-9972-44a6-b80d-c7a40ae215a6",
   "metadata": {},
   "outputs": [
    {
     "data": {
      "text/plain": [
       "{'name': 'Perfil_Municipios',\n",
       " 'isFolder': True,\n",
       " 'url': None,\n",
       " 'path': 'Perfil_Municipios',\n",
       " 'fileSize': 0,\n",
       " 'children': [{'name': '2001',\n",
       "   'isFolder': True,\n",
       "   'url': None,\n",
       "   'path': 'Perfil_Municipios/2001',\n",
       "   'fileSize': 0,\n",
       "   'children': None},\n",
       "  {'name': '2002',\n",
       "   'isFolder': True,\n",
       "   'url': None,\n",
       "   'path': 'Perfil_Municipios/2002',\n",
       "   'fileSize': 0,\n",
       "   'children': None},\n",
       "  {'name': '2004',\n",
       "   'isFolder': True,\n",
       "   'url': None,\n",
       "   'path': 'Perfil_Municipios/2004',\n",
       "   'fileSize': 0,\n",
       "   'children': None},\n",
       "  {'name': '2005',\n",
       "   'isFolder': True,\n",
       "   'url': None,\n",
       "   'path': 'Perfil_Municipios/2005',\n",
       "   'fileSize': 0,\n",
       "   'children': None},\n",
       "  {'name': '2006',\n",
       "   'isFolder': True,\n",
       "   'url': None,\n",
       "   'path': 'Perfil_Municipios/2006',\n",
       "   'fileSize': 0,\n",
       "   'children': None},\n",
       "  {'name': '2008',\n",
       "   'isFolder': True,\n",
       "   'url': None,\n",
       "   'path': 'Perfil_Municipios/2008',\n",
       "   'fileSize': 0,\n",
       "   'children': None},\n",
       "  {'name': '2009',\n",
       "   'isFolder': True,\n",
       "   'url': None,\n",
       "   'path': 'Perfil_Municipios/2009',\n",
       "   'fileSize': 0,\n",
       "   'children': None},\n",
       "  {'name': '2011',\n",
       "   'isFolder': True,\n",
       "   'url': None,\n",
       "   'path': 'Perfil_Municipios/2011',\n",
       "   'fileSize': 0,\n",
       "   'children': None},\n",
       "  {'name': '2012',\n",
       "   'isFolder': True,\n",
       "   'url': None,\n",
       "   'path': 'Perfil_Municipios/2012',\n",
       "   'fileSize': 0,\n",
       "   'children': None},\n",
       "  {'name': '2013',\n",
       "   'isFolder': True,\n",
       "   'url': None,\n",
       "   'path': 'Perfil_Municipios/2013',\n",
       "   'fileSize': 0,\n",
       "   'children': None},\n",
       "  {'name': '2014',\n",
       "   'isFolder': True,\n",
       "   'url': None,\n",
       "   'path': 'Perfil_Municipios/2014',\n",
       "   'fileSize': 0,\n",
       "   'children': None},\n",
       "  {'name': '2015',\n",
       "   'isFolder': True,\n",
       "   'url': None,\n",
       "   'path': 'Perfil_Municipios/2015',\n",
       "   'fileSize': 0,\n",
       "   'children': None},\n",
       "  {'name': '2017',\n",
       "   'isFolder': True,\n",
       "   'url': None,\n",
       "   'path': 'Perfil_Municipios/2017',\n",
       "   'fileSize': 0,\n",
       "   'children': None},\n",
       "  {'name': '2018',\n",
       "   'isFolder': True,\n",
       "   'url': None,\n",
       "   'path': 'Perfil_Municipios/2018',\n",
       "   'fileSize': 0,\n",
       "   'children': None},\n",
       "  {'name': '2019',\n",
       "   'isFolder': True,\n",
       "   'url': None,\n",
       "   'path': 'Perfil_Municipios/2019',\n",
       "   'fileSize': 0,\n",
       "   'children': None},\n",
       "  {'name': '2020',\n",
       "   'isFolder': True,\n",
       "   'url': None,\n",
       "   'path': 'Perfil_Municipios/2020',\n",
       "   'fileSize': 0,\n",
       "   'children': None},\n",
       "  {'name': 'Assistencia_Social_2005',\n",
       "   'isFolder': True,\n",
       "   'url': None,\n",
       "   'path': 'Perfil_Municipios/Assistencia_Social_2005',\n",
       "   'fileSize': 0,\n",
       "   'children': None},\n",
       "  {'name': 'Assistencia_Social_2009',\n",
       "   'isFolder': True,\n",
       "   'url': None,\n",
       "   'path': 'Perfil_Municipios/Assistencia_Social_2009',\n",
       "   'fileSize': 0,\n",
       "   'children': None},\n",
       "  {'name': 'Assistencia_Social_2013',\n",
       "   'isFolder': True,\n",
       "   'url': None,\n",
       "   'path': 'Perfil_Municipios/Assistencia_Social_2013',\n",
       "   'fileSize': 0,\n",
       "   'children': None},\n",
       "  {'name': 'Cultura_2006',\n",
       "   'isFolder': True,\n",
       "   'url': None,\n",
       "   'path': 'Perfil_Municipios/Cultura_2006',\n",
       "   'fileSize': 0,\n",
       "   'children': None},\n",
       "  {'name': 'Cultura_2014',\n",
       "   'isFolder': True,\n",
       "   'url': None,\n",
       "   'path': 'Perfil_Municipios/Cultura_2014',\n",
       "   'fileSize': 0,\n",
       "   'children': None},\n",
       "  {'name': 'Esporte_2003',\n",
       "   'isFolder': True,\n",
       "   'url': None,\n",
       "   'path': 'Perfil_Municipios/Esporte_2003',\n",
       "   'fileSize': 0,\n",
       "   'children': None},\n",
       "  {'name': 'Esporte_2016',\n",
       "   'isFolder': True,\n",
       "   'url': None,\n",
       "   'path': 'Perfil_Municipios/Esporte_2016',\n",
       "   'fileSize': 0,\n",
       "   'children': None},\n",
       "  {'name': 'Financas_Publicas_1998_2000',\n",
       "   'isFolder': True,\n",
       "   'url': None,\n",
       "   'path': 'Perfil_Municipios/Financas_Publicas_1998_2000',\n",
       "   'fileSize': 0,\n",
       "   'children': None},\n",
       "  {'name': 'Gestao_do_Saneamento_Basico_2017',\n",
       "   'isFolder': True,\n",
       "   'url': None,\n",
       "   'path': 'Perfil_Municipios/Gestao_do_Saneamento_Basico_2017',\n",
       "   'fileSize': 0,\n",
       "   'children': None},\n",
       "  {'name': 'Inclusao_Produtiva_2014',\n",
       "   'isFolder': True,\n",
       "   'url': None,\n",
       "   'path': 'Perfil_Municipios/Inclusao_Produtiva_2014',\n",
       "   'fileSize': 0,\n",
       "   'children': None},\n",
       "  {'name': 'Instrumentos_de_Coleta',\n",
       "   'isFolder': True,\n",
       "   'url': None,\n",
       "   'path': 'Perfil_Municipios/Instrumentos_de_Coleta',\n",
       "   'fileSize': 0,\n",
       "   'children': None},\n",
       "  {'name': 'Meio_Ambiente_2002',\n",
       "   'isFolder': True,\n",
       "   'url': None,\n",
       "   'path': 'Perfil_Municipios/Meio_Ambiente_2002',\n",
       "   'fileSize': 0,\n",
       "   'children': None},\n",
       "  {'name': 'Saneamento_Basico_2017',\n",
       "   'isFolder': True,\n",
       "   'url': None,\n",
       "   'path': 'Perfil_Municipios/Saneamento_Basico_2017',\n",
       "   'fileSize': 0,\n",
       "   'children': None}]}"
      ]
     },
     "execution_count": 5,
     "metadata": {},
     "output_type": "execute_result"
    }
   ],
   "source": [
    "import requests\n",
    "import json\n",
    "import os\n",
    "\n",
    "url = f'https://servicodados.ibge.gov.br/api/v1/downloads/estatisticas?caminho=/&nivel=1'\n",
    "\n",
    "page_request = requests.get(url)\n",
    "page_response = json.loads(page_request.content)\n",
    "\n",
    "\n",
    "# procurando pelo elemento com os dados sobre os municipios\n",
    "for response in page_response:\n",
    "    if response.get('name') == 'Perfil_Municipios':\n",
    "        # criando pasta raiz de dados\n",
    "        os.makedirs('data/Perfil_Municipios', exist_ok=True)\n",
    "        meta_mun = response\n",
    "        break\n",
    "meta_mun"
   ]
  },
  {
   "cell_type": "markdown",
   "id": "8e36b2b2-57ed-496f-84f6-e9ec63bd8f3c",
   "metadata": {},
   "source": [
    "### Segundo passo\n",
    "- Observamos no print acima que as chaves retornadas acima tem três parâmetros de interesse:\n",
    "    - isFolder: se o valor for True, indica que esse JSON é apenas uma pasta. Ou seja, os arquivos para serem baixados noutro nível do JSON.\n",
    "    - path: indica o parâmetro que devemos passar na API. Ao passar o path em '?caminho=' vamos recuperar outro JSON que pode conter uma URL com o arquivo a ser baixado.\n",
    "    - children: indica outros nós aninhados em nosso JSON. Nesse caso nós temos as subpastas relacionadas a pasta principal 'Perfil_Municipios'. Vamos começar nossa busca por aí. \n",
    "- Vamos fazer um teste com o primeiro elemento desse JSON pra ver se a gente acha a url pra fazer download do arquivo"
   ]
  },
  {
   "cell_type": "code",
   "execution_count": 6,
   "id": "f98c09bd-e6f3-44e8-b3e2-9219d15cdc6e",
   "metadata": {},
   "outputs": [
    {
     "data": {
      "text/plain": [
       "b'[{\"name\":\"Tabelas_2001.zip\",\"isFolder\":false,\"url\":\"https://ftp.ibge.gov.br/Perfil_Municipios/2001/Tabelas_2001.zip\",\"path\":null,\"fileSize\":364147,\"children\":null}]'"
      ]
     },
     "execution_count": 6,
     "metadata": {},
     "output_type": "execute_result"
    }
   ],
   "source": [
    "children = meta_mun.get('children')\n",
    "caminho = children[0].get('path')\n",
    "url = url = f'https://servicodados.ibge.gov.br/api/v1/downloads/estatisticas?caminho={caminho}/&nivel=1'\n",
    "page_request = requests.get(url)\n",
    "page_response = page_request.content\n",
    "page_response"
   ]
  },
  {
   "cell_type": "markdown",
   "id": "796c6534-6ecd-446b-ae58-9ff5ff32eebe",
   "metadata": {},
   "source": [
    "### Terceiro passo\n",
    "- Achamos nossa primeira URL com um arquivo que queremos extrair. Aqui temos três parâmetros de interesse:\n",
    "    - name: nome do arquivo que será baixado.\n",
    "    - url: a url com o nosso arquivo. Note que ela aponta para um servidor FTP, ou seja, de transferência de dados.\n",
    "    - isFolder: quando essa variável é false, indica que chegamos na raiz das pastas, ou seja, onde os arquivos se encontram de fato.\n",
    "    - Nesse ponto já poderíamos fazer nosso primeiro download, mas precisamos tratar algumas situações antes de automatizar tudo. Isso será discutido no próximo passo."
   ]
  },
  {
   "cell_type": "markdown",
   "id": "b1371775-42c8-4e73-b3d3-5995ca455e93",
   "metadata": {},
   "source": [
    "### Quarto passo\n",
    "- A nossa solução precisa tratar o seguinte cenário: como extrair urls que estão dentro subpastas?\n",
    "    - Ex: Perfil_Municipios/2008/pdf/1_bimestre/parte_2/arquivo.txt\n",
    "- Para isso, foi necessário construir uma subrotina que vai navegando dentro de subpastas até chegar na raiz, onde encontram-se os arquivos."
   ]
  },
  {
   "cell_type": "code",
   "execution_count": 7,
   "id": "cb5bf431-bceb-40f9-a83c-c3cfceb01b53",
   "metadata": {},
   "outputs": [],
   "source": [
    "# Função privada que navega por subpastas até que urls com arquivos sejam encontradas.\n",
    "def get_all_files(json_doc):\n",
    "    # Se o JSON for uma pasta, ele criará essa pasta localmente e chamará essa \n",
    "    # função novamente para procurar por subpastas dentro dessa pasta\n",
    "    if json_doc.get('isFolder'):\n",
    "        caminho = json_doc.get('path')\n",
    "        url = f'https://servicodados.ibge.gov.br/api/v1/downloads/estatisticas?caminho={caminho}/&nivel=1'\n",
    "        os.makedirs(f'data/{caminho}', exist_ok=True)\n",
    "        page_request = requests.get(url)\n",
    "        page_response = json.loads(page_request.content)\n",
    "        # A response pode vir em formato de lista (contém várias subpastas). Para lidar com isso é necessário um loop\n",
    "        # Ex: [Perfil_Municipios/2008/xls/, Perfil_Municipios/2008/csv]\n",
    "        for response in page_response:\n",
    "            # Se não for folder, quer dizer que chegamos à raiz. \n",
    "            # Vamos extrair o arquivo e salvá-lo na pasta que criamos localmente.\n",
    "            if not response.get('isFolder'):\n",
    "                file = requests.get(response.get('url'))\n",
    "                filename = response.get('name')\n",
    "                with open(f'data/{caminho}/{filename}', 'wb') as f:\n",
    "                    f.write(file.content)\n",
    "            # Caso contrário, vamos chamar essa função novamente.\n",
    "            # Dessa vez vamos passar como parâmetro a próxima subpasta.\n",
    "            # Ex: Se estamos em Perfil_Municipios/2008/ vamos chamar Perfil_Municipios/2008/xls/\n",
    "            else:\n",
    "                get_all_files(response)\n",
    "    # Caso contrário, vamos chamar essa função novamente.\n",
    "    # Dessa vez vamos passar como parâmetro a próxima subpasta.\n",
    "    # Ex: Se estamos em Perfil_Municipios/2008/ vamos chamar Perfil_Municipios/2008/xls/\n",
    "    else:\n",
    "        file = requests.get(json_doc.get('url'))\n",
    "        filename = json_doc.get('name')\n",
    "        with open(f'data/{caminho}/{filename}', 'wb') as f:\n",
    "            f.write(file.content)"
   ]
  },
  {
   "cell_type": "markdown",
   "id": "21f4bb07-f4ac-43c7-bc19-8cbb51775de0",
   "metadata": {},
   "source": [
    "### Quinto passo\n",
    "- Por fim, executamos a subrotina criada acima para todas as pastas recuperadas em Perfil_Municipios/"
   ]
  },
  {
   "cell_type": "code",
   "execution_count": 8,
   "id": "7c658070-d253-4dfc-bd41-708c36fd104e",
   "metadata": {
    "tags": []
   },
   "outputs": [],
   "source": [
    "childrens = meta_mun.get('children')\n",
    "for children in childrens:\n",
    "    get_all_files(children)"
   ]
  }
 ],
 "metadata": {
  "kernelspec": {
   "display_name": "Python 3 (ipykernel)",
   "language": "python",
   "name": "python3"
  },
  "language_info": {
   "codemirror_mode": {
    "name": "ipython",
    "version": 3
   },
   "file_extension": ".py",
   "mimetype": "text/x-python",
   "name": "python",
   "nbconvert_exporter": "python",
   "pygments_lexer": "ipython3",
   "version": "3.9.7"
  }
 },
 "nbformat": 4,
 "nbformat_minor": 5
}
